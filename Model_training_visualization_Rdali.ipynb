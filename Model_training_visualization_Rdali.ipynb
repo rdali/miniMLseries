{
 "cells": [
  {
   "cell_type": "markdown",
   "id": "outdoor-shore",
   "metadata": {},
   "source": [
    "## Training a Linear Regression Model"
   ]
  },
  {
   "cell_type": "markdown",
   "id": "loose-newsletter",
   "metadata": {},
   "source": [
    "Linear Regression equation: y = wx + b  \n",
    "Least Squares: yᵢ = w0 + w1*xᵢ+εᵢ  \n",
    "The objective is to minimize the sum of squared errors: Minimize : ∑(yᵢ-yᵢ^)**2   \n",
    "\n",
    "based on: https://medium.com/@pritioli/implementing-linear-regression-from-scratch-747343634494  \n",
    "\n",
    "To experiment with Neural Network training, check out: https://playground.tensorflow.org/"
   ]
  },
  {
   "cell_type": "code",
   "execution_count": null,
   "id": "leading-shuttle",
   "metadata": {},
   "outputs": [],
   "source": [
    "## based on gradient descent\n",
    "import numpy as np\n",
    "from math import sqrt\n",
    "import matplotlib.pyplot as plt\n",
    "import pandas as pd\n"
   ]
  },
  {
   "cell_type": "code",
   "execution_count": null,
   "id": "changing-manufacturer",
   "metadata": {},
   "outputs": [],
   "source": [
    "## functions to train the model\n",
    "\n",
    "def initialize(dim):\n",
    "  w1 = np.random.rand(dim)\n",
    "  w0 = np.random.rand()\n",
    "  return w1, w0\n",
    "\n",
    "def compute_cost(X,Y, y_hat):\n",
    "    m = len(Y)\n",
    "    cost = (1/(2*m)) * np.sum(np.square(y_hat - Y))\n",
    "    return cost\n",
    "\n",
    "def predict_y(X,w1,w0):\n",
    "  if len(w1)==1:\n",
    "    w1 = w1[0]\n",
    "    return X*w1+w0\n",
    "  return np.dot(X,w1)+w0\n",
    "\n",
    "\n",
    "def update_parameters(X,Y,y_hat,cost,w0,w1,learning_rate):\n",
    "  m = len(Y)\n",
    "  db=(np.sum(y_hat-Y))/m\n",
    "  dw=np.dot(y_hat-Y,X)/m\n",
    "\n",
    "  w0_new=w0-learning_rate*db\n",
    "  w1_new=w1-learning_rate*dw\n",
    "  return w0_new,w1_new\n",
    "\n",
    "\n",
    "def run_gradient_descent(X,Y,alpha,max_iterations,stopping_threshold = 1e-6):\n",
    "    dims = 1\n",
    "    if len(X.shape)>1:\n",
    "        dims = X.shape[1]\n",
    "    w1,w0=initialize(dims)\n",
    "    previous_cost = None\n",
    "    cost_history = np.zeros(max_iterations)\n",
    "    w0_history = np.zeros(max_iterations)\n",
    "    w1_history = np.zeros(max_iterations)\n",
    "\n",
    "    for itr in range(max_iterations):\n",
    "        y_hat=predict_y(X,w1,w0)\n",
    "        cost=compute_cost(X,Y,y_hat)\n",
    "        # early stopping criteria\n",
    "        if previous_cost and abs(previous_cost-cost)<=stopping_threshold:\n",
    "          break\n",
    "        cost_history[itr]=cost\n",
    "        w0_history[itr]=w0\n",
    "        w1_history[itr]=w1\n",
    "        previous_cost = cost\n",
    "        old_w1=w1\n",
    "        old_w0=w0\n",
    "        w0,w1=update_parameters(X,Y,y_hat,cost,old_w0,old_w1,alpha)\n",
    "\n",
    "    return w0,w1,cost_history, w0_history, w1_history\n",
    "\n",
    "def plot_cost_history(cost_history):\n",
    "    plt.plot(range(1, iterations + 1), cost_history, color='blue')\n",
    "    plt.rcParams[\"figure.figsize\"] = (10, 6)\n",
    "    plt.grid()\n",
    "    plt.xlabel('Number of iterations')\n",
    "    plt.ylabel('Cost (J)')\n",
    "    plt.title('Convergence of gradient descent')\n",
    "    plt.show()\n",
    "\n",
    "    \n",
    "def abline(slope, intercept):\n",
    "    \"\"\"Plot a line from slope and intercept\"\"\"\n",
    "    axes = plt.gca()\n",
    "    x_vals = np.array(axes.get_xlim())\n",
    "    y_vals = intercept + slope * x_vals\n",
    "    plt.plot(x_vals, y_vals, '--', color='red')\n",
    "\n",
    "    \n",
    "def plot_fit(data, w1, w0, cost, itr, pdf=0):\n",
    "    cost = round(cost,2)\n",
    "    plt.scatter(x=data.temp_c, y=data.temp_f)\n",
    "    abline(w1, w0)\n",
    "    plt.rcParams[\"figure.figsize\"] = (10, 6)\n",
    "    plt.grid()\n",
    "    plt.xlabel('Temperature in Celcius')\n",
    "    plt.ylabel('Temperature in Fahrenheit')\n",
    "    plt.title(f'Model Fit at iteration {itr + 1}')\n",
    "    plt.text(-50, 250, f'Calculated Cost = {cost}', fontsize=14, color='red')\n",
    "    if pdf:\n",
    "        plt.savefig(f\"plot_fit_itr_{itr+1}.pdf\", format=\"pdf\", bbox_inches=\"tight\")\n",
    "    plt.show()\n",
    "\n",
    "def plot_actual_predicted(x, y, y_hat):\n",
    "    plt.scatter(x, y, label='Observed Value')\n",
    "    plt.scatter(x, y_hat, label='Predicted Value', color='red')\n",
    "    plt.xlabel('<--X-Axis-->')\n",
    "    plt.ylabel('<--Y-Axis-->')\n",
    "    plt.legend()\n",
    "    plt.show()\n",
    "    \n",
    "def rmse_metric(actual, predicted):\n",
    "    sum_error = 0.0\n",
    "    for y, y_hat in zip(actual,predicted) :\n",
    "        prediction_error = y - y_hat\n",
    "        sum_error += (prediction_error ** 2)\n",
    "    mean_error = sum_error / float(len(actual))\n",
    "    return sqrt(mean_error)\n",
    "\n",
    "def evaluate_ols(y,y_hat):\n",
    "    mse = np.mean((y - y_hat) ** 2)\n",
    "    return mse,np.sqrt(mse)\n"
   ]
  },
  {
   "cell_type": "code",
   "execution_count": null,
   "id": "peripheral-outreach",
   "metadata": {},
   "outputs": [],
   "source": [
    "#download data_file:\n",
    "\n",
    "!wget -O temperatures.csv https://drive.usercontent.google.com/uc?id=1bcl86iqr3XxZ-2pdp_UOoV6_hsxvYM3_&authuser=0&export=download"
   ]
  },
  {
   "cell_type": "code",
   "execution_count": null,
   "id": "comparable-cliff",
   "metadata": {},
   "outputs": [],
   "source": [
    "# load the dataset:\n",
    "data_file = \"temperatures.csv\"\n",
    "data = pd.read_csv(data_file, header=None)\n",
    "data.columns = [\"temp_c\", \"temp_f\"]"
   ]
  },
  {
   "cell_type": "code",
   "execution_count": null,
   "id": "legitimate-connecticut",
   "metadata": {},
   "outputs": [],
   "source": [
    "# explore the dataset:\n",
    "print(\"File contains: \", data.shape)\n",
    "data.describe()"
   ]
  },
  {
   "cell_type": "code",
   "execution_count": null,
   "id": "handed-startup",
   "metadata": {},
   "outputs": [],
   "source": [
    "learning_rate = 0.0001 # hyperparameter\n",
    "iterations = 10        # hyperparameter\n",
    "\n",
    "w0,w1,cost_history, w0_history, w1_history = run_gradient_descent(data.temp_c,data.temp_f,learning_rate,iterations)\n"
   ]
  },
  {
   "cell_type": "code",
   "execution_count": null,
   "id": "qualified-priest",
   "metadata": {},
   "outputs": [],
   "source": [
    "for itr in range(0, iterations):\n",
    "    plot_fit(data, w1_history[itr], w0_history[itr], cost_history[itr], itr, pdf=1)"
   ]
  },
  {
   "cell_type": "code",
   "execution_count": null,
   "id": "black-intake",
   "metadata": {},
   "outputs": [],
   "source": [
    "plot_cost_history(cost_history)"
   ]
  },
  {
   "cell_type": "code",
   "execution_count": null,
   "id": "green-visibility",
   "metadata": {},
   "outputs": [],
   "source": [
    "# actual vs predicted values:\n",
    "y_hat = predict_y(data.temp_c,w1,w0)\n",
    "plot_actual_predicted(data.temp_c, data.temp_f, y_hat)"
   ]
  },
  {
   "cell_type": "code",
   "execution_count": null,
   "id": "decimal-insured",
   "metadata": {},
   "outputs": [],
   "source": []
  }
 ],
 "metadata": {
  "kernelspec": {
   "display_name": "Python 3 (ipykernel)",
   "language": "python",
   "name": "python3"
  },
  "language_info": {
   "codemirror_mode": {
    "name": "ipython",
    "version": 3
   },
   "file_extension": ".py",
   "mimetype": "text/x-python",
   "name": "python",
   "nbconvert_exporter": "python",
   "pygments_lexer": "ipython3",
   "version": "3.9.12"
  }
 },
 "nbformat": 4,
 "nbformat_minor": 5
}
